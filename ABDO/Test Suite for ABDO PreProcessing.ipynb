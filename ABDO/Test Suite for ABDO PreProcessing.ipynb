{
 "cells": [
  {
   "cell_type": "code",
   "execution_count": null,
   "id": "0c64a364",
   "metadata": {},
   "outputs": [],
   "source": [
    "'''creating test suite for all functions in abdo preprocessing package'''\n",
    "\n",
    "import unittest\n",
    "class TestInformation(unittest.TestCase): \n",
    "    def test1(self): \n",
    "        self.assertEqual(Information(df), 'error') # test when an empty df is passed .\n",
    "        self.assertEqual(square(3.0), 9.0)  # test to make sure categorical & numerical are correctly labeled.\n",
    "        self.assertNotEqual(square(-3), -9)  # test when -3 is given as input the output is not -9.\n",
    "        \n",
    "class TestImputeNulls(unittest.TestCase): \n",
    "    def test1(self): \n",
    "        self.assertEqual(ImputeNulls(df,numerical),'result') # 3 test cases  to check numerical imputation using interpolation-median-mean \n",
    "        self.assertEqual(ImputeNulls(df,categorical),'res'ult) #3 test cases  to check categorical imputation using frequency-bf/ff-other.\n",
    "        self.assertEqual(double(0), 0) # test when 0 is given as input the output is 0.\n",
    "        \n",
    "class TestOutliers(unittest.TestCase): \n",
    "    def test1(self): \n",
    "        self.assertEqual(double(2), 4) # test when 2 is given as input the output is 4.\n",
    "        self.assertEqual(double(-3.1), -6.2) # test when -3.1 is given as input the output is -6.2.\n",
    "        self.assertEqual(double(0), 0) # test when 0 is given as input the output is 0.\n",
    "        \n",
    "class TestEncodeCategorical(unittest.TestCase): \n",
    "    def test1(self): \n",
    "        self.assertEqual(double(2), 4) # test when 2 is given as input the output is 4.\n",
    "        self.assertEqual(double(-3.1), -6.2) # test when -3.1 is given as input the output is -6.2.\n",
    "        self.assertEqual(double(0), 0) # test when 0 is given as input the output is 0.\n",
    "        \n",
    "        \n",
    "class TestModel(unittest.TestCase): \n",
    "    def test1(self): \n",
    "        self.assertEqual(double(2), 4) # test when 2 is given as input the output is 4.\n",
    "        self.assertEqual(double(-3.1), -6.2) # test when -3.1 is given as input the output is -6.2.\n",
    "        self.assertEqual(double(0), 0) # test when 0 is given as input the output is 0.\n",
    "        \n",
    "unittest.main()"
   ]
  }
 ],
 "metadata": {
  "kernelspec": {
   "display_name": "Python 3 (ipykernel)",
   "language": "python",
   "name": "python3"
  },
  "language_info": {
   "codemirror_mode": {
    "name": "ipython",
    "version": 3
   },
   "file_extension": ".py",
   "mimetype": "text/x-python",
   "name": "python",
   "nbconvert_exporter": "python",
   "pygments_lexer": "ipython3",
   "version": "3.11.3"
  }
 },
 "nbformat": 4,
 "nbformat_minor": 5
}
